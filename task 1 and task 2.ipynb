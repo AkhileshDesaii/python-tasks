{
 "cells": [
  {
   "cell_type": "markdown",
   "id": "cacccf49",
   "metadata": {},
   "source": [
    "\n",
    "# Task 1)\n"
   ]
  },
  {
   "cell_type": "markdown",
   "id": "8be2a3b9",
   "metadata": {},
   "source": [
    "#go through some of the other in built functions "
   ]
  },
  {
   "cell_type": "markdown",
   "id": "24d11a30",
   "metadata": {},
   "source": [
    "1) all() \n",
    "   function returns True if all elements in the given iterable are true, if not it returns False"
   ]
  },
  {
   "cell_type": "code",
   "execution_count": 1,
   "id": "ac3330cb",
   "metadata": {},
   "outputs": [
    {
     "name": "stdout",
     "output_type": "stream",
     "text": [
      "True\n"
     ]
    }
   ],
   "source": [
    "boolean_list = ['True','True','True']\n",
    "#check if all elements are true\n",
    "result = all(boolean_list)\n",
    "print(result)"
   ]
  },
  {
   "cell_type": "markdown",
   "id": "fd8ad094",
   "metadata": {},
   "source": [
    "2) any()\n",
    "    function returns True if any elements in the an iterable is true, if not it returns False"
   ]
  },
  {
   "cell_type": "code",
   "execution_count": 2,
   "id": "697472be",
   "metadata": {},
   "outputs": [
    {
     "name": "stdout",
     "output_type": "stream",
     "text": [
      "True\n"
     ]
    }
   ],
   "source": [
    "#true since 1, 3, 4 (at least one is true)\n",
    "a = [1, 3, 4, 0]\n",
    "print(any(a))"
   ]
  },
  {
   "cell_type": "code",
   "execution_count": 3,
   "id": "52ffb1bb",
   "metadata": {},
   "outputs": [
    {
     "name": "stdout",
     "output_type": "stream",
     "text": [
      "False\n"
     ]
    }
   ],
   "source": [
    "#false since both are false\n",
    "a = [0, False]\n",
    "print(any(a))"
   ]
  },
  {
   "cell_type": "code",
   "execution_count": 4,
   "id": "7347a51f",
   "metadata": {},
   "outputs": [
    {
     "name": "stdout",
     "output_type": "stream",
     "text": [
      "True\n"
     ]
    }
   ],
   "source": [
    "#true since 5 is true\n",
    "a = [0, False, 5]\n",
    "print(any(a))"
   ]
  },
  {
   "cell_type": "code",
   "execution_count": 5,
   "id": "963e4f27",
   "metadata": {},
   "outputs": [
    {
     "name": "stdout",
     "output_type": "stream",
     "text": [
      "False\n"
     ]
    }
   ],
   "source": [
    "#false since iterable is empty\n",
    "a = []\n",
    "print(any(a))"
   ]
  },
  {
   "cell_type": "markdown",
   "id": "2c9020e7",
   "metadata": {},
   "source": [
    "3) complex()\n",
    "   The complex() method returns a complex number when real and imaginary parts are provided, \n",
    "   or it converts a string to a compex number"
   ]
  },
  {
   "cell_type": "code",
   "execution_count": 6,
   "id": "6e41945b",
   "metadata": {},
   "outputs": [
    {
     "name": "stdout",
     "output_type": "stream",
     "text": [
      "(2-3j)\n"
     ]
    }
   ],
   "source": [
    "z = complex(2, -3)\n",
    "print(z)"
   ]
  },
  {
   "cell_type": "code",
   "execution_count": 7,
   "id": "1489eefe",
   "metadata": {},
   "outputs": [
    {
     "name": "stdout",
     "output_type": "stream",
     "text": [
      "(1+0j)\n"
     ]
    }
   ],
   "source": [
    "z = complex(1)\n",
    "print(z)"
   ]
  },
  {
   "cell_type": "code",
   "execution_count": 8,
   "id": "f65dadac",
   "metadata": {},
   "outputs": [
    {
     "name": "stdout",
     "output_type": "stream",
     "text": [
      "0j\n"
     ]
    }
   ],
   "source": [
    "s = complex()\n",
    "print(s)"
   ]
  },
  {
   "cell_type": "code",
   "execution_count": 9,
   "id": "db08739d",
   "metadata": {},
   "outputs": [
    {
     "name": "stdout",
     "output_type": "stream",
     "text": [
      "(5-9j)\n"
     ]
    }
   ],
   "source": [
    "a = complex('5-9j')\n",
    "print(a)"
   ]
  },
  {
   "cell_type": "markdown",
   "id": "be0c8166",
   "metadata": {},
   "source": [
    "4) range() \n",
    "   The range() methods returns an immutable sequence of numbers between the given start integer to the stop integer."
   ]
  },
  {
   "cell_type": "code",
   "execution_count": 10,
   "id": "f2b80d9d",
   "metadata": {},
   "outputs": [
    {
     "name": "stdout",
     "output_type": "stream",
     "text": [
      "[]\n"
     ]
    }
   ],
   "source": [
    "# empty range\n",
    "print(list(range(0)))"
   ]
  },
  {
   "cell_type": "code",
   "execution_count": 11,
   "id": "49c9c3ef",
   "metadata": {},
   "outputs": [
    {
     "name": "stdout",
     "output_type": "stream",
     "text": [
      "[0, 1, 2, 3, 4, 5, 6, 7, 8, 9]\n"
     ]
    }
   ],
   "source": [
    "# using range (stop)\n",
    "print(list(range(10)))"
   ]
  },
  {
   "cell_type": "code",
   "execution_count": 12,
   "id": "27e79810",
   "metadata": {},
   "outputs": [
    {
     "name": "stdout",
     "output_type": "stream",
     "text": [
      "[1, 2, 3, 4, 5, 6, 7, 8, 9]\n"
     ]
    }
   ],
   "source": [
    "# using range (start, stop)\n",
    "print(list(range(1, 10)))"
   ]
  },
  {
   "cell_type": "markdown",
   "id": "787bed5a",
   "metadata": {},
   "source": [
    "\n",
    "# task 2)\n"
   ]
  },
  {
   "cell_type": "markdown",
   "id": "e620e777",
   "metadata": {},
   "source": [
    "#given a string for example\n",
    "str1 = \"welocome to python\"\n",
    "\n",
    " #check if \"to\" is present in \"welcome to python\""
   ]
  },
  {
   "cell_type": "code",
   "execution_count": 13,
   "id": "439794df",
   "metadata": {},
   "outputs": [
    {
     "name": "stdout",
     "output_type": "stream",
     "text": [
      "welocome to python\n"
     ]
    }
   ],
   "source": [
    "str1 = \"welocome to python\"\n",
    "#check if to present in the str1 or not \n",
    "print(str1)"
   ]
  },
  {
   "cell_type": "code",
   "execution_count": 14,
   "id": "7dd13fbf",
   "metadata": {},
   "outputs": [
    {
     "name": "stdout",
     "output_type": "stream",
     "text": [
      "true\n"
     ]
    }
   ],
   "source": [
    "if(str1 == \"welcome to python\"):\n",
    "    print(\"false\")\n",
    "else:\n",
    "    print(\"true\")"
   ]
  }
 ],
 "metadata": {
  "kernelspec": {
   "display_name": "Python 3",
   "language": "python",
   "name": "python3"
  },
  "language_info": {
   "codemirror_mode": {
    "name": "ipython",
    "version": 3
   },
   "file_extension": ".py",
   "mimetype": "text/x-python",
   "name": "python",
   "nbconvert_exporter": "python",
   "pygments_lexer": "ipython3",
   "version": "3.8.8"
  }
 },
 "nbformat": 4,
 "nbformat_minor": 5
}
