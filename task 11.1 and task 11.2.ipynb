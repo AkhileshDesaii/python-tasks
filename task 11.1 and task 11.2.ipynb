{
 "cells": [
  {
   "cell_type": "markdown",
   "id": "44d31048",
   "metadata": {},
   "source": [
    "\n",
    "# Task 11.1\n"
   ]
  },
  {
   "cell_type": "markdown",
   "id": "d1c0a4ed",
   "metadata": {},
   "source": [
    "Explain Return keyword with example."
   ]
  },
  {
   "cell_type": "markdown",
   "id": "70769514",
   "metadata": {},
   "source": [
    "The python return keyword exits a function and instructs python to continue executing the main program.\n",
    "return keyword can be used to return values from a function\n",
    "it can be used to end the execution of a function\n",
    "statements below return keyword will not get executed"
   ]
  },
  {
   "cell_type": "code",
   "execution_count": 1,
   "id": "553a408f",
   "metadata": {},
   "outputs": [],
   "source": [
    "# Ex1) returning sum\n",
    "def add(x,y):\n",
    "    z = x + y\n",
    "    return z\n",
    "    print(z) #will not be executed"
   ]
  },
  {
   "cell_type": "code",
   "execution_count": 2,
   "id": "f9cc9f3c",
   "metadata": {},
   "outputs": [
    {
     "data": {
      "text/plain": [
       "40"
      ]
     },
     "execution_count": 2,
     "metadata": {},
     "output_type": "execute_result"
    }
   ],
   "source": [
    "my_sum = add(10,20)\n",
    "my_sum + 10"
   ]
  },
  {
   "cell_type": "code",
   "execution_count": 3,
   "id": "86294e5c",
   "metadata": {},
   "outputs": [],
   "source": [
    "# Ex2) returning product\n",
    "def product(x,y):\n",
    "    z = x * y\n",
    "    return z\n",
    "    print(z) #will not execute"
   ]
  },
  {
   "cell_type": "code",
   "execution_count": 4,
   "id": "95beaf95",
   "metadata": {},
   "outputs": [
    {
     "data": {
      "text/plain": [
       "20"
      ]
     },
     "execution_count": 4,
     "metadata": {},
     "output_type": "execute_result"
    }
   ],
   "source": [
    "my_num = product(10,2)\n",
    "my_num"
   ]
  },
  {
   "cell_type": "markdown",
   "id": "d0b568b0",
   "metadata": {},
   "source": [
    "\n",
    "# Task 11.2\n"
   ]
  },
  {
   "cell_type": "markdown",
   "id": "35ed27c5",
   "metadata": {},
   "source": [
    "1)Ask 2 numbers from users and store it in num1 and num2\n",
    "2)Ask user to press 1 for addition,2 for subtraction,3 for multiplication and 4 for division\n",
    "3)create 4 seperate functions for each operation (i.e. addition,subtraction,multiplication and division)\n",
    "4)based on number given by user,call that perticular function and print the output"
   ]
  },
  {
   "cell_type": "code",
   "execution_count": 5,
   "id": "8f1cd225",
   "metadata": {},
   "outputs": [
    {
     "name": "stdout",
     "output_type": "stream",
     "text": [
      "8.0\n"
     ]
    }
   ],
   "source": [
    "#1)Ask 2 numbers from users and store it in num1 and num2\n",
    "num1 = 1.5\n",
    "num2 = 6.5\n",
    "\n",
    "sum = num1 + num2 \n",
    "print(sum)"
   ]
  },
  {
   "cell_type": "code",
   "execution_count": 6,
   "id": "01c8e869",
   "metadata": {},
   "outputs": [
    {
     "name": "stdout",
     "output_type": "stream",
     "text": [
      "Enter first number: 28\n",
      "Enter second number: 18\n",
      "46.0\n"
     ]
    }
   ],
   "source": [
    "#adding two numbers with user input\n",
    "num1 = input('Enter first number: ')\n",
    "num2 = input('Enter second number: ')\n",
    "\n",
    "sum = float(num1) + float(num2)\n",
    "print(sum)"
   ]
  },
  {
   "cell_type": "code",
   "execution_count": 7,
   "id": "18e5f890",
   "metadata": {},
   "outputs": [
    {
     "name": "stdout",
     "output_type": "stream",
     "text": [
      "num1 is greater than num2\n"
     ]
    }
   ],
   "source": [
    "if(num1<num2):\n",
    "    print(\"num1 is less than num2\")\n",
    "else:\n",
    "    print(\"num1 is greater than num2\")"
   ]
  },
  {
   "cell_type": "code",
   "execution_count": 8,
   "id": "ddcbb4c1",
   "metadata": {},
   "outputs": [],
   "source": [
    "#3)create 4 seperate functions for each operation (i.e. addition,subtraction,multiplication and division)\n",
    "# addition\n",
    "x = 18\n",
    "y = 28"
   ]
  },
  {
   "cell_type": "code",
   "execution_count": 9,
   "id": "313a3424",
   "metadata": {},
   "outputs": [
    {
     "data": {
      "text/plain": [
       "46"
      ]
     },
     "execution_count": 9,
     "metadata": {},
     "output_type": "execute_result"
    }
   ],
   "source": [
    "x + y"
   ]
  },
  {
   "cell_type": "code",
   "execution_count": 10,
   "id": "9a0ad1c7",
   "metadata": {},
   "outputs": [
    {
     "data": {
      "text/plain": [
       "-10"
      ]
     },
     "execution_count": 10,
     "metadata": {},
     "output_type": "execute_result"
    }
   ],
   "source": [
    "# subtraction\n",
    "x - y"
   ]
  },
  {
   "cell_type": "code",
   "execution_count": 11,
   "id": "c4d0698c",
   "metadata": {},
   "outputs": [
    {
     "data": {
      "text/plain": [
       "504"
      ]
     },
     "execution_count": 11,
     "metadata": {},
     "output_type": "execute_result"
    }
   ],
   "source": [
    "# Multiplication\n",
    "x * y"
   ]
  },
  {
   "cell_type": "code",
   "execution_count": 12,
   "id": "b6f338e0",
   "metadata": {},
   "outputs": [
    {
     "data": {
      "text/plain": [
       "0.6428571428571429"
      ]
     },
     "execution_count": 12,
     "metadata": {},
     "output_type": "execute_result"
    }
   ],
   "source": [
    "# division\n",
    "x / y"
   ]
  },
  {
   "cell_type": "code",
   "execution_count": 13,
   "id": "1c49f49f",
   "metadata": {},
   "outputs": [
    {
     "data": {
      "text/plain": [
       "28"
      ]
     },
     "execution_count": 13,
     "metadata": {},
     "output_type": "execute_result"
    }
   ],
   "source": [
    "#4)based on number given by user,call that perticular function and print the output\n",
    "x = 28\n",
    "x"
   ]
  },
  {
   "cell_type": "code",
   "execution_count": 14,
   "id": "e1b0c5ab",
   "metadata": {},
   "outputs": [],
   "source": [
    "x = 18\n",
    "y = 28"
   ]
  },
  {
   "cell_type": "code",
   "execution_count": 15,
   "id": "b279d207",
   "metadata": {},
   "outputs": [
    {
     "data": {
      "text/plain": [
       "False"
      ]
     },
     "execution_count": 15,
     "metadata": {},
     "output_type": "execute_result"
    }
   ],
   "source": [
    "x == y"
   ]
  },
  {
   "cell_type": "code",
   "execution_count": 16,
   "id": "a3642990",
   "metadata": {},
   "outputs": [],
   "source": [
    "x = True\n",
    "y = False"
   ]
  },
  {
   "cell_type": "code",
   "execution_count": 17,
   "id": "2b519996",
   "metadata": {},
   "outputs": [
    {
     "data": {
      "text/plain": [
       "False"
      ]
     },
     "execution_count": 17,
     "metadata": {},
     "output_type": "execute_result"
    }
   ],
   "source": [
    "x and y"
   ]
  }
 ],
 "metadata": {
  "kernelspec": {
   "display_name": "Python 3",
   "language": "python",
   "name": "python3"
  },
  "language_info": {
   "codemirror_mode": {
    "name": "ipython",
    "version": 3
   },
   "file_extension": ".py",
   "mimetype": "text/x-python",
   "name": "python",
   "nbconvert_exporter": "python",
   "pygments_lexer": "ipython3",
   "version": "3.8.8"
  }
 },
 "nbformat": 4,
 "nbformat_minor": 5
}
