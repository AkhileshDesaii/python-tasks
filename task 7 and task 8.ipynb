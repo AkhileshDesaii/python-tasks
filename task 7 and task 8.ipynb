{
 "cells": [
  {
   "cell_type": "markdown",
   "id": "3c09b723",
   "metadata": {},
   "source": [
    "# Task7 - go through other inbuilt methods like\n",
    "\n",
    "1) difference() 2) symmetric_difference()"
   ]
  },
  {
   "cell_type": "markdown",
   "id": "02807acd",
   "metadata": {},
   "source": [
    "1)The difference between the two sets in python is equal to the difference between the number of elements in two sets.\n",
    "  The function difference() returns a set that is difference between two sets.\n",
    "  lets take an example "
   ]
  },
  {
   "cell_type": "code",
   "execution_count": 1,
   "id": "21b542d9",
   "metadata": {},
   "outputs": [
    {
     "name": "stdout",
     "output_type": "stream",
     "text": [
      "{10, 50, 20}\n",
      "{80, 100, 60}\n"
     ]
    }
   ],
   "source": [
    "A = {10, 20, 30, 40, 50}\n",
    "B = {100, 30, 80, 40, 60}\n",
    "\n",
    "#syntax\n",
    "print(A.difference(B))\n",
    "print(B.difference(A))"
   ]
  },
  {
   "cell_type": "markdown",
   "id": "0aee6a8b",
   "metadata": {},
   "source": [
    "we can also use - operator to find the difference between two sets"
   ]
  },
  {
   "cell_type": "code",
   "execution_count": 2,
   "id": "323b7575",
   "metadata": {},
   "outputs": [
    {
     "name": "stdout",
     "output_type": "stream",
     "text": [
      "{10, 50, 20}\n",
      "{80, 100, 60}\n"
     ]
    }
   ],
   "source": [
    "A = {10, 20, 30, 40, 50} \n",
    "B = {100, 30, 80, 40, 60}\n",
    "\n",
    "print(A - B)\n",
    "print(B - A)"
   ]
  },
  {
   "cell_type": "markdown",
   "id": "f23c716a",
   "metadata": {},
   "source": [
    "if we have equal sets then it will return the null set"
   ]
  },
  {
   "cell_type": "code",
   "execution_count": 3,
   "id": "ce573f18",
   "metadata": {},
   "outputs": [
    {
     "name": "stdout",
     "output_type": "stream",
     "text": [
      "set()\n"
     ]
    }
   ],
   "source": [
    "A = {10, 20, 30, 50}\n",
    "B = {10, 20, 30, 50}\n",
    "\n",
    "print(A - B)"
   ]
  },
  {
   "cell_type": "markdown",
   "id": "c406dd89",
   "metadata": {},
   "source": [
    "2)Symmetric_difference() help us to get the symmetric difference between two sets, which is equal to the elements present in \n",
    "  either of two sets, but not common to both the sets. \n",
    "  lets take an example"
   ]
  },
  {
   "cell_type": "code",
   "execution_count": 4,
   "id": "f6cc4c1d",
   "metadata": {},
   "outputs": [
    {
     "name": "stdout",
     "output_type": "stream",
     "text": [
      "{70, 10, 60, 30}\n",
      "{70, 10, 60, 30}\n"
     ]
    }
   ],
   "source": [
    "A = {10, 20, 30, 50, 80}\n",
    "B = {20, 50, 60, 70, 80}\n",
    "\n",
    "#syntax\n",
    "print(A.symmetric_difference(B))\n",
    "print(B.symmetric_difference(A))"
   ]
  },
  {
   "cell_type": "markdown",
   "id": "e647b5ea",
   "metadata": {},
   "source": [
    "Symmetric difference using operator"
   ]
  },
  {
   "cell_type": "markdown",
   "id": "091a8550",
   "metadata": {},
   "source": [
    "\n",
    "# Task8 - Make a table of all the In-built data structures and Point out the       differences one by one\n"
   ]
  },
  {
   "cell_type": "markdown",
   "id": "06bb7b12",
   "metadata": {},
   "source": [
    "Python has four basic inbuilt data structure namely Lists, Dictionary, Tuple and Set."
   ]
  },
  {
   "cell_type": "markdown",
   "id": "6a73c04a",
   "metadata": {},
   "source": [
    "1)DATA STRUCTURES IN PYTHON \n",
    "\n",
    " LISTS\n",
    "a) Can store different data types\n",
    "b) Duplicate values are allowed\n",
    "c) Order is retained\n",
    "d) Indexing and slicing is possible\n",
    "e) Mutable\n",
    "\n",
    " DICTIONARY \n",
    "a) Can store different data types\n",
    "b) Order doesnt matter here\n",
    "c) Keys should be unique\n",
    "d) Mutable\n",
    "\n",
    " TUPLE \n",
    "a) Can store different data types\n",
    "b) Duplicate values are allowed\n",
    "c) Order is retained\n",
    "d) Indexing and slicing is possible\n",
    "e) Immutable.\n",
    "\n",
    " SET \n",
    "a) Can store different data types\n",
    "b) Duplicate values are not allowed\n",
    "c) Order is not retained\n",
    "d) Indexing and slicing is not possible\n",
    "\n",
    "2)USER DEFINED DATA STRUCTURES \n",
    "\n",
    " STACK \n",
    "\n",
    " QUEUE \n",
    "\n",
    " TREE \n",
    "\n",
    " LINKED LIST GRAPH  \n",
    "\n",
    " HASHMAP \n",
    "\n",
    " \n",
    "\n",
    "LISTS \n",
    "list \n",
    "Ordered sequence of objects: [10, “hello”, 200.3 ]\n",
    "\n",
    "DICTIONARIES \n",
    "dict\n",
    "Unorder Key:Value pairs {“mykey” : “value”, “name” : “Akhilesh”} \n",
    "\n",
    "TUPLES \n",
    "tup \n",
    "Ordered immutable sequence of objects : (10, “hello”, 200.3) \n",
    "\n",
    "SETS \n",
    "set \n",
    "Unordered collection of unique objects: {“a”, “b”} \n",
    "\n",
    " "
   ]
  }
 ],
 "metadata": {
  "kernelspec": {
   "display_name": "Python 3",
   "language": "python",
   "name": "python3"
  },
  "language_info": {
   "codemirror_mode": {
    "name": "ipython",
    "version": 3
   },
   "file_extension": ".py",
   "mimetype": "text/x-python",
   "name": "python",
   "nbconvert_exporter": "python",
   "pygments_lexer": "ipython3",
   "version": "3.8.8"
  }
 },
 "nbformat": 4,
 "nbformat_minor": 5
}
