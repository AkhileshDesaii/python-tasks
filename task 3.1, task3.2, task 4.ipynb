{
 "cells": [
  {
   "cell_type": "markdown",
   "id": "23bed622",
   "metadata": {},
   "source": [
    "# Task 3.1 \n",
    "\n",
    "go through other inbuilt methods like remove(), count(), clear(), sort(), reverse()"
   ]
  },
  {
   "cell_type": "markdown",
   "id": "a5a452d6",
   "metadata": {},
   "source": [
    "1. remove() this function is used to delete the first occurence of number mentioned in its arguments.\n",
    "2. sort() this function sorts the list in increasing order.\n",
    "3. clear() this function is used to erase all elements of list. After this operation list becomes empty.\n",
    "4. reverse() this function reverse the element of lis.\n",
    "5. count() this function count how many times a given object occurs in a list. \n",
    "   The count() function is used to count the elements on a list as well as a string."
   ]
  },
  {
   "cell_type": "markdown",
   "id": "299aadb1",
   "metadata": {},
   "source": [
    "\n",
    "# Task 3.2\n",
    "\n",
    "#create a list of length = 10 and access 5th to 8th data"
   ]
  },
  {
   "cell_type": "code",
   "execution_count": 1,
   "id": "e311bd46",
   "metadata": {},
   "outputs": [],
   "source": [
    "list1 = [1,2,3,4,5,6,7.5,8,8.5,9]"
   ]
  },
  {
   "cell_type": "code",
   "execution_count": 2,
   "id": "a5415998",
   "metadata": {},
   "outputs": [
    {
     "data": {
      "text/plain": [
       "[1, 2, 3, 4, 5, 6, 7.5, 8, 8.5, 9]"
      ]
     },
     "execution_count": 2,
     "metadata": {},
     "output_type": "execute_result"
    }
   ],
   "source": [
    "list1"
   ]
  },
  {
   "cell_type": "code",
   "execution_count": 3,
   "id": "7b586dc5",
   "metadata": {},
   "outputs": [
    {
     "data": {
      "text/plain": [
       "10"
      ]
     },
     "execution_count": 3,
     "metadata": {},
     "output_type": "execute_result"
    }
   ],
   "source": [
    "# to check the length of the lists\n",
    "len(list1)"
   ]
  },
  {
   "cell_type": "code",
   "execution_count": 4,
   "id": "2b317520",
   "metadata": {},
   "outputs": [
    {
     "data": {
      "text/plain": [
       "6"
      ]
     },
     "execution_count": 4,
     "metadata": {},
     "output_type": "execute_result"
    }
   ],
   "source": [
    "# to access 5th to 8th data using indexing which starts from 0\n",
    "list1[5]"
   ]
  },
  {
   "cell_type": "code",
   "execution_count": 5,
   "id": "392453b1",
   "metadata": {},
   "outputs": [
    {
     "data": {
      "text/plain": [
       "7.5"
      ]
     },
     "execution_count": 5,
     "metadata": {},
     "output_type": "execute_result"
    }
   ],
   "source": [
    "list1[6]"
   ]
  },
  {
   "cell_type": "code",
   "execution_count": 6,
   "id": "a124b1e4",
   "metadata": {},
   "outputs": [
    {
     "data": {
      "text/plain": [
       "8"
      ]
     },
     "execution_count": 6,
     "metadata": {},
     "output_type": "execute_result"
    }
   ],
   "source": [
    "list1[7]"
   ]
  },
  {
   "cell_type": "code",
   "execution_count": 7,
   "id": "aeb8d9da",
   "metadata": {},
   "outputs": [
    {
     "data": {
      "text/plain": [
       "8.5"
      ]
     },
     "execution_count": 7,
     "metadata": {},
     "output_type": "execute_result"
    }
   ],
   "source": [
    "list1[8]"
   ]
  },
  {
   "cell_type": "markdown",
   "id": "bbf98af1",
   "metadata": {},
   "source": [
    "\n",
    "# Task 4\n"
   ]
  },
  {
   "cell_type": "markdown",
   "id": "eb69deab",
   "metadata": {},
   "source": [
    "#Add item 70 after 60 in the following python list\n",
    "#input\n",
    "l1 = [10, 20 [30, 40 [50, 60], 80], 90, 100]"
   ]
  },
  {
   "cell_type": "code",
   "execution_count": 8,
   "id": "ff9ba1d9",
   "metadata": {},
   "outputs": [
    {
     "data": {
      "text/plain": [
       "[10, 20, [30, 40, [50, 60], 80], 90, 100]"
      ]
     },
     "execution_count": 8,
     "metadata": {},
     "output_type": "execute_result"
    }
   ],
   "source": [
    "# my_l1\n",
    "my_l1 = [10, 20, [30, 40, [50, 60], 80], 90, 100]\n",
    "my_l1"
   ]
  },
  {
   "cell_type": "code",
   "execution_count": 9,
   "id": "93e23369",
   "metadata": {},
   "outputs": [],
   "source": [
    "# to insert item 70 after 60\n",
    "my_l1.insert(60,70)"
   ]
  },
  {
   "cell_type": "code",
   "execution_count": 10,
   "id": "1894c5dc",
   "metadata": {},
   "outputs": [
    {
     "data": {
      "text/plain": [
       "[10, 20, [30, 40, [50, 60], 80], 90, 100, 70]"
      ]
     },
     "execution_count": 10,
     "metadata": {},
     "output_type": "execute_result"
    }
   ],
   "source": [
    "my_l1"
   ]
  },
  {
   "cell_type": "code",
   "execution_count": 11,
   "id": "afe85e9a",
   "metadata": {},
   "outputs": [],
   "source": [
    "#add sublist [7,8] after 6\n",
    "#input\n",
    "l2 = [1,2,[3,4,5,6],9]"
   ]
  },
  {
   "cell_type": "code",
   "execution_count": 12,
   "id": "855399aa",
   "metadata": {},
   "outputs": [
    {
     "data": {
      "text/plain": [
       "[1, 2, [3, 4, 5, 6], 9]"
      ]
     },
     "execution_count": 12,
     "metadata": {},
     "output_type": "execute_result"
    }
   ],
   "source": [
    "# my_l2\n",
    "my_l2 = [1,2,[3,4,5,6],9]\n",
    "my_l2"
   ]
  },
  {
   "cell_type": "code",
   "execution_count": 13,
   "id": "2c8303f9",
   "metadata": {},
   "outputs": [],
   "source": [
    "# to insert sublist [7,8] after 6\n",
    "my_l2.insert(6,[7,8])"
   ]
  },
  {
   "cell_type": "code",
   "execution_count": 14,
   "id": "9e9a8493",
   "metadata": {},
   "outputs": [
    {
     "data": {
      "text/plain": [
       "[1, 2, [3, 4, 5, 6], 9, [7, 8]]"
      ]
     },
     "execution_count": 14,
     "metadata": {},
     "output_type": "execute_result"
    }
   ],
   "source": [
    "my_l2"
   ]
  }
 ],
 "metadata": {
  "kernelspec": {
   "display_name": "Python 3",
   "language": "python",
   "name": "python3"
  },
  "language_info": {
   "codemirror_mode": {
    "name": "ipython",
    "version": 3
   },
   "file_extension": ".py",
   "mimetype": "text/x-python",
   "name": "python",
   "nbconvert_exporter": "python",
   "pygments_lexer": "ipython3",
   "version": "3.8.8"
  }
 },
 "nbformat": 4,
 "nbformat_minor": 5
}
