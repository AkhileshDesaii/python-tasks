{
 "cells": [
  {
   "cell_type": "markdown",
   "id": "6074d78a",
   "metadata": {},
   "source": [
    "\n",
    "# Task10\n"
   ]
  },
  {
   "cell_type": "markdown",
   "id": "a044a1a7",
   "metadata": {},
   "source": [
    "using while loop print numbers from 10 to 1\n",
    "try using for loop to loop over tuples,sets and dictionaries"
   ]
  },
  {
   "cell_type": "code",
   "execution_count": 1,
   "id": "6bc35e70",
   "metadata": {},
   "outputs": [
    {
     "name": "stdout",
     "output_type": "stream",
     "text": [
      "10\n",
      "9\n",
      "8\n",
      "7\n",
      "6\n",
      "5\n",
      "4\n",
      "3\n",
      "2\n",
      "1\n"
     ]
    }
   ],
   "source": [
    "#using while loop\n",
    "count = 10\n",
    "while(count>0):\n",
    "    print(count)\n",
    "    count = count - 1"
   ]
  },
  {
   "cell_type": "code",
   "execution_count": 2,
   "id": "3f716a92",
   "metadata": {},
   "outputs": [
    {
     "name": "stdout",
     "output_type": "stream",
     "text": [
      "10\n",
      "9\n",
      "8\n",
      "7\n",
      "6\n",
      "5\n",
      "4\n",
      "3\n",
      "2\n",
      "1\n"
     ]
    }
   ],
   "source": [
    "#using for loop on tuple\n",
    "tup1 = (10,9,8,7,6,5,4,3,2,1)\n",
    "for item in tup1:\n",
    "    print(item)"
   ]
  },
  {
   "cell_type": "code",
   "execution_count": 3,
   "id": "3e9aa2a4",
   "metadata": {},
   "outputs": [
    {
     "name": "stdout",
     "output_type": "stream",
     "text": [
      "1\n",
      "2\n",
      "3\n",
      "4\n",
      "5\n",
      "6\n",
      "7\n",
      "8\n",
      "9\n",
      "10\n"
     ]
    }
   ],
   "source": [
    "#using for loop on set\n",
    "set1 = {10,9,8,7,6,5,4,3,2,1}\n",
    "\n",
    "for item in set1:\n",
    "    print(item)\n"
   ]
  },
  {
   "cell_type": "code",
   "execution_count": 4,
   "id": "f1c6b098",
   "metadata": {},
   "outputs": [
    {
     "name": "stdout",
     "output_type": "stream",
     "text": [
      "1\n",
      "2\n",
      "3\n",
      "4\n",
      "5\n",
      "6\n",
      "7\n",
      "8\n",
      "9\n",
      "10\n"
     ]
    }
   ],
   "source": [
    "#using for loop on dictionary\n",
    "dict1 = {10,9,8,7,6,5,4,3,2,1}\n",
    "\n",
    "for item in dict1:\n",
    "    print(item)"
   ]
  },
  {
   "cell_type": "code",
   "execution_count": 5,
   "id": "562003ef",
   "metadata": {},
   "outputs": [
    {
     "name": "stdout",
     "output_type": "stream",
     "text": [
      "10\n",
      "9\n",
      "8\n",
      "7\n",
      "6\n",
      "5\n",
      "4\n",
      "3\n",
      "2\n",
      "1\n"
     ]
    }
   ],
   "source": [
    "#using for loop on list\n",
    "list1 = [10,9,8,7,6,5,4,3,2,1]\n",
    "\n",
    "for item in list1:\n",
    "    print(item)"
   ]
  },
  {
   "cell_type": "markdown",
   "id": "59040abb",
   "metadata": {},
   "source": [
    "\n",
    "# Task 10.1\n"
   ]
  },
  {
   "cell_type": "markdown",
   "id": "031c95ba",
   "metadata": {},
   "source": [
    "what is the uasge of continue wiith an example."
   ]
  },
  {
   "cell_type": "markdown",
   "id": "c23d900a",
   "metadata": {},
   "source": [
    "continue keyword takes the execution to the begining of the loop. In other word it skips that perticular iteration. or\n",
    "You can use continue statement in python to skip over part of a loop when a condition is met."
   ]
  },
  {
   "cell_type": "code",
   "execution_count": 6,
   "id": "c1ea9556",
   "metadata": {},
   "outputs": [
    {
     "name": "stdout",
     "output_type": "stream",
     "text": [
      "1\n",
      "3\n",
      "5\n",
      "7\n",
      "9\n",
      "11\n"
     ]
    }
   ],
   "source": [
    "# print only odd numbers\n",
    "count = 0\n",
    "while(count<11):\n",
    "    count = count + 1\n",
    "    if(count%2 == 0):\n",
    "        continue\n",
    "    print(count)"
   ]
  },
  {
   "cell_type": "markdown",
   "id": "fb54689b",
   "metadata": {},
   "source": [
    "\n",
    "# Task 10.2\n"
   ]
  },
  {
   "cell_type": "markdown",
   "id": "e3aac39b",
   "metadata": {},
   "source": [
    "What is pass keyword, with example."
   ]
  },
  {
   "cell_type": "markdown",
   "id": "04a638e3",
   "metadata": {},
   "source": [
    "pass keyword means it does nothing but you can avoid getting an error when empty code is not allowed. Empty code is not allowed in loops,if else conditions,functions,Classes etc"
   ]
  },
  {
   "cell_type": "code",
   "execution_count": 7,
   "id": "29df99a3",
   "metadata": {},
   "outputs": [],
   "source": [
    "#Ex\n",
    "\n",
    "if(4>2):\n",
    "    pass"
   ]
  },
  {
   "cell_type": "code",
   "execution_count": 8,
   "id": "45991a99",
   "metadata": {},
   "outputs": [
    {
     "name": "stdout",
     "output_type": "stream",
     "text": [
      "A\n"
     ]
    }
   ],
   "source": [
    "if(4>2):\n",
    "    print(\"A\")\n",
    "else:\n",
    "    pass\n"
   ]
  },
  {
   "cell_type": "code",
   "execution_count": 9,
   "id": "9f6fe309",
   "metadata": {},
   "outputs": [],
   "source": [
    "for i in range(10):\n",
    "    pass"
   ]
  }
 ],
 "metadata": {
  "kernelspec": {
   "display_name": "Python 3",
   "language": "python",
   "name": "python3"
  },
  "language_info": {
   "codemirror_mode": {
    "name": "ipython",
    "version": 3
   },
   "file_extension": ".py",
   "mimetype": "text/x-python",
   "name": "python",
   "nbconvert_exporter": "python",
   "pygments_lexer": "ipython3",
   "version": "3.8.8"
  }
 },
 "nbformat": 4,
 "nbformat_minor": 5
}
